{
 "cells": [
  {
   "cell_type": "markdown",
   "id": "6551faf9-5d3d-4e70-b08c-1587e3380591",
   "metadata": {},
   "source": [
    "# Blockchain-Distributed-IDS - Client Node  \n",
    "\n",
    "This notebook runs on a **client node** in the Blockchain-Distributed-IDS system. It trains a local Intrusion Detection System (IDS) model and participates in **Federated Learning** using the Flower framework.  \n",
    "\n",
    "## Author  \n",
    "**Charles Stolz**  \n",
    "cstolz2@und.edu  \n",
    "\n",
    "## Acknowledgments  \n",
    "This project builds upon the following open-source contributions:  \n",
    "\n",
    "### Flower Federated Learning Framework  \n",
    "- Used for decentralized model training and updates across IDS nodes.  \n",
    "- **Documentation:** [Flower AI Docs](https://flower.ai/docs/)  \n",
    "- **GitHub:** [Flower GitHub](https://github.com/adap/flower)  \n",
    "- **Reference Paper:** Beutel, D.J., Topal, T., Mathur, A. et al. (2020). *Flower: A Friendly Federated Learning Framework.*  \n"
   ]
  },
  {
   "cell_type": "code",
   "execution_count": 110,
   "id": "b7396bed",
   "metadata": {},
   "outputs": [],
   "source": [
    "import json\n",
    "import logging\n",
    "import numpy as np\n",
    "import pandas as pd\n",
    "import flwr as fl\n",
    "import tensorflow as tf\n",
    "from tensorflow import keras\n",
    "from tensorflow.keras.models import Sequential\n",
    "from tensorflow.keras.layers import Dense, Dropout\n",
    "from sklearn.preprocessing import StandardScaler, LabelEncoder\n",
    "from sklearn.model_selection import train_test_split\n",
    "from imblearn.over_sampling import RandomOverSampler"
   ]
  },
  {
   "cell_type": "code",
   "execution_count": 111,
   "id": "a6ea8d5b",
   "metadata": {},
   "outputs": [],
   "source": [
    "logging.basicConfig(level=logging.INFO)\n",
    "logger = logging.getLogger(__name__)"
   ]
  },
  {
   "cell_type": "code",
   "execution_count": 112,
   "id": "a480595a-c56a-48b6-addc-fe18943fcc40",
   "metadata": {},
   "outputs": [],
   "source": [
    "#!pip install flwr tensorflow pandas numpy scikit-learn imbalanced-learn pyarrow"
   ]
  },
  {
   "cell_type": "code",
   "execution_count": 113,
   "id": "22e23f38",
   "metadata": {},
   "outputs": [],
   "source": [
    "CONFIG_PATH = \"../config/client_config.json\"\n",
    "with open(CONFIG_PATH, \"r\") as f:\n",
    "    config = json.load(f)"
   ]
  },
  {
   "cell_type": "code",
   "execution_count": 114,
   "id": "aa0242eb",
   "metadata": {},
   "outputs": [],
   "source": [
    "CLIENT_ID = config[\"client_id\"]\n",
    "SERVER_ADDRESS = config[\"server_address\"]\n",
    "BATCH_SIZE = config[\"batch_size\"]\n",
    "LEARNING_RATE = config[\"learning_rate\"]\n",
    "USE_GPU = config[\"use_gpu\"]\n",
    "DATASET_PATH = config[\"dataset_path\"]"
   ]
  },
  {
   "cell_type": "code",
   "execution_count": 115,
   "id": "3ca5f542",
   "metadata": {},
   "outputs": [
    {
     "name": "stderr",
     "output_type": "stream",
     "text": [
      "INFO:__main__:using CPU.\n"
     ]
    }
   ],
   "source": [
    "# Disable GPU Raspberry Pi\n",
    "if not USE_GPU:\n",
    "    tf.config.set_visible_devices([], \"GPU\")\n",
    "    logger.info(\"using CPU.\")"
   ]
  },
  {
   "cell_type": "code",
   "execution_count": 116,
   "id": "0899d870",
   "metadata": {},
   "outputs": [],
   "source": [
    "df = pd.read_csv(DATASET_PATH)"
   ]
  },
  {
   "cell_type": "code",
   "execution_count": 117,
   "id": "9a9306aa",
   "metadata": {},
   "outputs": [],
   "source": [
    "# extract features and labels\n",
    "X = df.iloc[:, :-1].values\n",
    "y = df.iloc[:, -1].values"
   ]
  },
  {
   "cell_type": "code",
   "execution_count": 118,
   "id": "2d05a712",
   "metadata": {},
   "outputs": [
    {
     "name": "stderr",
     "output_type": "stream",
     "text": [
      "INFO:__main__:dataset shape: (100000, 78)\n"
     ]
    }
   ],
   "source": [
    "logger.info(f\"dataset shape: {X.shape}\")"
   ]
  },
  {
   "cell_type": "code",
   "execution_count": 119,
   "id": "47ae916b",
   "metadata": {},
   "outputs": [],
   "source": [
    "X = np.nan_to_num(X, nan=0.0, posinf=0.0, neginf=0.0)"
   ]
  },
  {
   "cell_type": "code",
   "execution_count": 120,
   "id": "308c33d6",
   "metadata": {},
   "outputs": [],
   "source": [
    "#scale feeatures\n",
    "scaler = StandardScaler()\n",
    "X = scaler.fit_transform(X)"
   ]
  },
  {
   "cell_type": "code",
   "execution_count": 121,
   "id": "a5e9c8af-b893-4069-8892-ce9344480ae7",
   "metadata": {},
   "outputs": [
    {
     "name": "stdout",
     "output_type": "stream",
     "text": [
      "Original class distribution: Counter({'BENIGN': 50000, 'DoS Hulk': 20727, 'PortScan': 14163, 'DDoS': 11489, 'DoS GoldenEye': 956, 'FTP-Patator': 745, 'SSH-Patator': 534, 'DoS Slowhttptest': 511, 'DoS slowloris': 508, 'Bot': 163, 'Web Attack � Brute Force': 138, 'Web Attack � XSS': 60, 'Infiltration': 4, 'Web Attack � Sql Injection': 2})\n"
     ]
    }
   ],
   "source": [
    "import collections\n",
    "# debug before oversampling\n",
    "original_counts = collections.Counter(y)\n",
    "print(f\"Original class distribution: {original_counts}\")"
   ]
  },
  {
   "cell_type": "code",
   "execution_count": 122,
   "id": "ac27259d",
   "metadata": {
    "lines_to_next_cell": 2
   },
   "outputs": [],
   "source": [
    "# convert multi-class labels into binary labels (Attack = 1, Benign = 0)\n",
    "df[\"label_binary\"] = df.iloc[:, -1].apply(lambda x: 0 if x == \"BENIGN\" else 1)\n",
    "y = df[\"label_binary\"].values.astype(np.int32)"
   ]
  },
  {
   "cell_type": "code",
   "execution_count": 123,
   "id": "ca4166c4",
   "metadata": {},
   "outputs": [],
   "source": [
    "# oversampling\n",
    "ros = RandomOverSampler(sampling_strategy=\"auto\", random_state=42)\n",
    "X_resampled, y_resampled = ros.fit_resample(X, y)"
   ]
  },
  {
   "cell_type": "code",
   "execution_count": 124,
   "id": "fd745083-7383-4401-a2b3-f7526365ecb0",
   "metadata": {},
   "outputs": [
    {
     "name": "stdout",
     "output_type": "stream",
     "text": [
      "After oversampling: Counter({1: 50000, 0: 50000})\n"
     ]
    }
   ],
   "source": [
    "oversampled_counts = collections.Counter(y_resampled)\n",
    "print(f\"After oversampling: {oversampled_counts}\")"
   ]
  },
  {
   "cell_type": "code",
   "execution_count": 125,
   "id": "15974ef0",
   "metadata": {
    "lines_to_next_cell": 1
   },
   "outputs": [],
   "source": [
    "# split into training and validation sets\n",
    "X_train, X_val, y_train, y_val = train_test_split(X_resampled, y_resampled, test_size=0.2, random_state=42, stratify=y_resampled)"
   ]
  },
  {
   "cell_type": "code",
   "execution_count": 126,
   "id": "dfb9d066",
   "metadata": {
    "lines_to_next_cell": 1
   },
   "outputs": [],
   "source": [
    "def build_model():\n",
    "    model = Sequential([\n",
    "        Dense(64, activation=\"relu\", input_shape=(X_train.shape[1],)),\n",
    "        Dropout(0.2),\n",
    "        Dense(32, activation=\"relu\"),\n",
    "        Dense(1, activation=\"sigmoid\")  # Binary classification output\n",
    "    ])\n",
    "    \n",
    "    model.compile(optimizer=keras.optimizers.Adam(learning_rate=LEARNING_RATE),\n",
    "                  loss=\"binary_crossentropy\",\n",
    "                  metrics=[\"accuracy\", \"Precision\", \"Recall\", \"AUC\"])\n",
    "    \n",
    "    return model"
   ]
  },
  {
   "cell_type": "code",
   "execution_count": 127,
   "id": "b2c0143b",
   "metadata": {
    "lines_to_next_cell": 1
   },
   "outputs": [
    {
     "name": "stderr",
     "output_type": "stream",
     "text": [
      "INFO:__main__:initializing model\n",
      "/home/rtikes/Blockchain-Distributed-IDS/venv/lib/python3.11/site-packages/keras/src/layers/core/dense.py:87: UserWarning: Do not pass an `input_shape`/`input_dim` argument to a layer. When using Sequential models, prefer using an `Input(shape)` object as the first layer in the model instead.\n",
      "  super().__init__(activity_regularizer=activity_regularizer, **kwargs)\n"
     ]
    }
   ],
   "source": [
    "logger.info(\"initializing model\")\n",
    "model = build_model()"
   ]
  },
  {
   "cell_type": "code",
   "execution_count": 128,
   "id": "e306c493",
   "metadata": {
    "lines_to_next_cell": 1
   },
   "outputs": [],
   "source": [
    "class FlowerClient(fl.client.NumPyClient):\n",
    "    def get_parameters(self, config):\n",
    "        return model.get_weights()\n",
    "\n",
    "    def set_parameters(self, parameters):\n",
    "        model.set_weights(parameters)\n",
    "\n",
    "    def fit(self, parameters, config):\n",
    "        logger.info(\"received training request from server start training\")\n",
    "        self.set_parameters(parameters)\n",
    "        history = model.fit(X_train, y_train, batch_size=BATCH_SIZE, epochs=7, verbose=2, validation_data=(X_val, y_val))\n",
    "        logger.info(f\"Training completed. Final Loss: {history.history['loss'][-1]}\")\n",
    "        return self.get_parameters(config), len(X_train), {}\n",
    "\n",
    "    def evaluate(self, parameters, config):\n",
    "        logger.info(\"evaluating model\")\n",
    "        self.set_parameters(parameters)\n",
    "        loss, accuracy, precision, recall, auc = model.evaluate(X_val, y_val)\n",
    "        logger.info(f\"Evaluation completed. Loss: {loss}, Accuracy: {accuracy}, Precision: {precision}, Recall: {recall}, AUC: {auc}\")\n",
    "        return loss, len(X_val), {\"accuracy\": accuracy, \"precision\": precision, \"recall\": recall, \"auc\": auc}"
   ]
  },
  {
   "cell_type": "code",
   "execution_count": null,
   "id": "643bc59a",
   "metadata": {
    "lines_to_next_cell": 2
   },
   "outputs": [
    {
     "name": "stderr",
     "output_type": "stream",
     "text": [
      "INFO:__main__: starting flower Client node-beta. connecting to server at 192.168.0.51:9091...\n",
      "\u001b[93mWARNING \u001b[0m:   DEPRECATED FEATURE: flwr.client.start_numpy_client() is deprecated. \n",
      "\tInstead, use `flwr.client.start_client()` by ensuring you first call the `.to_client()` method as shown below: \n",
      "\tflwr.client.start_client(\n",
      "\t\tserver_address='<IP>:<PORT>',\n",
      "\t\tclient=FlowerClient().to_client(), # <-- where FlowerClient is of type flwr.client.NumPyClient object\n",
      "\t)\n",
      "\tUsing `start_numpy_client()` is deprecated.\n",
      "\n",
      "            This is a deprecated feature. It will be removed\n",
      "            entirely in future versions of Flower.\n",
      "        \n",
      "WARNING:flwr:DEPRECATED FEATURE: flwr.client.start_numpy_client() is deprecated. \n",
      "\tInstead, use `flwr.client.start_client()` by ensuring you first call the `.to_client()` method as shown below: \n",
      "\tflwr.client.start_client(\n",
      "\t\tserver_address='<IP>:<PORT>',\n",
      "\t\tclient=FlowerClient().to_client(), # <-- where FlowerClient is of type flwr.client.NumPyClient object\n",
      "\t)\n",
      "\tUsing `start_numpy_client()` is deprecated.\n",
      "\n",
      "            This is a deprecated feature. It will be removed\n",
      "            entirely in future versions of Flower.\n",
      "        \n",
      "\u001b[93mWARNING \u001b[0m:   DEPRECATED FEATURE: flwr.client.start_client() is deprecated.\n",
      "\tInstead, use the `flower-supernode` CLI command to start a SuperNode as shown below:\n",
      "\n",
      "\t\t$ flower-supernode --insecure --superlink='<IP>:<PORT>'\n",
      "\n",
      "\tTo view all available options, run:\n",
      "\n",
      "\t\t$ flower-supernode --help\n",
      "\n",
      "\tUsing `start_client()` is deprecated.\n",
      "\n",
      "            This is a deprecated feature. It will be removed\n",
      "            entirely in future versions of Flower.\n",
      "        \n",
      "WARNING:flwr:DEPRECATED FEATURE: flwr.client.start_client() is deprecated.\n",
      "\tInstead, use the `flower-supernode` CLI command to start a SuperNode as shown below:\n",
      "\n",
      "\t\t$ flower-supernode --insecure --superlink='<IP>:<PORT>'\n",
      "\n",
      "\tTo view all available options, run:\n",
      "\n",
      "\t\t$ flower-supernode --help\n",
      "\n",
      "\tUsing `start_client()` is deprecated.\n",
      "\n",
      "            This is a deprecated feature. It will be removed\n",
      "            entirely in future versions of Flower.\n",
      "        \n",
      "DEBUG:flwr:Opened insecure gRPC connection (no certificates were passed)\n",
      "DEBUG:flwr:ChannelConnectivity.IDLE\n",
      "DEBUG:flwr:ChannelConnectivity.READY\n",
      "\u001b[92mINFO \u001b[0m:      \n",
      "INFO:flwr:\n",
      "\u001b[92mINFO \u001b[0m:      Received: get_parameters message 80cfd98e-cf9e-41a2-9b28-2c876cc42f20\n",
      "INFO:flwr:Received: get_parameters message 80cfd98e-cf9e-41a2-9b28-2c876cc42f20\n",
      "\u001b[92mINFO \u001b[0m:      Sent reply\n",
      "INFO:flwr:Sent reply\n",
      "\u001b[92mINFO \u001b[0m:      \n",
      "INFO:flwr:\n",
      "\u001b[92mINFO \u001b[0m:      Received: train message 73fb4524-3c04-433e-88e2-c9adec63102d\n",
      "INFO:flwr:Received: train message 73fb4524-3c04-433e-88e2-c9adec63102d\n",
      "INFO:__main__:received training request from server start training\n"
     ]
    },
    {
     "name": "stdout",
     "output_type": "stream",
     "text": [
      "Epoch 1/7\n",
      "1250/1250 - 14s - 12ms/step - AUC: 0.9810 - Precision: 0.9239 - Recall: 0.9392 - accuracy: 0.9309 - loss: 0.1831 - val_AUC: 0.9931 - val_Precision: 0.9463 - val_Recall: 0.9772 - val_accuracy: 0.9609 - val_loss: 0.1025\n",
      "Epoch 2/7\n",
      "1250/1250 - 8s - 7ms/step - AUC: 0.9917 - Precision: 0.9492 - Recall: 0.9743 - accuracy: 0.9610 - loss: 0.1102 - val_AUC: 0.9946 - val_Precision: 0.9360 - val_Recall: 0.9933 - val_accuracy: 0.9627 - val_loss: 0.0917\n",
      "Epoch 3/7\n",
      "1250/1250 - 8s - 7ms/step - AUC: 0.9931 - Precision: 0.9566 - Recall: 0.9790 - accuracy: 0.9673 - loss: 0.0985 - val_AUC: 0.9959 - val_Precision: 0.9674 - val_Recall: 0.9889 - val_accuracy: 0.9778 - val_loss: 0.0768\n",
      "Epoch 4/7\n",
      "1250/1250 - 8s - 7ms/step - AUC: 0.9942 - Precision: 0.9596 - Recall: 0.9817 - accuracy: 0.9702 - loss: 0.0883 - val_AUC: 0.9962 - val_Precision: 0.9704 - val_Recall: 0.9798 - val_accuracy: 0.9750 - val_loss: 0.0736\n",
      "Epoch 5/7\n",
      "1250/1250 - 8s - 7ms/step - AUC: 0.9947 - Precision: 0.9615 - Recall: 0.9840 - accuracy: 0.9723 - loss: 0.0834 - val_AUC: 0.9971 - val_Precision: 0.9661 - val_Recall: 0.9932 - val_accuracy: 0.9792 - val_loss: 0.0662\n",
      "Epoch 6/7\n",
      "1250/1250 - 8s - 7ms/step - AUC: 0.9952 - Precision: 0.9630 - Recall: 0.9859 - accuracy: 0.9740 - loss: 0.0784 - val_AUC: 0.9973 - val_Precision: 0.9688 - val_Recall: 0.9913 - val_accuracy: 0.9797 - val_loss: 0.0620\n",
      "Epoch 7/7\n",
      "1250/1250 - 8s - 7ms/step - AUC: 0.9959 - Precision: 0.9644 - Recall: 0.9866 - accuracy: 0.9751 - loss: 0.0736 - val_AUC: 0.9974 - val_Precision: 0.9695 - val_Recall: 0.9901 - val_accuracy: 0.9795 - val_loss: 0.0595\n"
     ]
    },
    {
     "name": "stderr",
     "output_type": "stream",
     "text": [
      "INFO:__main__:Training completed. Final Loss: 0.0735979825258255\n",
      "\u001b[92mINFO \u001b[0m:      Sent reply\n",
      "INFO:flwr:Sent reply\n",
      "\u001b[92mINFO \u001b[0m:      \n",
      "INFO:flwr:\n",
      "\u001b[92mINFO \u001b[0m:      Received: evaluate message 88d34d27-b898-4c8f-846a-ce1ef6e78f0e\n",
      "INFO:flwr:Received: evaluate message 88d34d27-b898-4c8f-846a-ce1ef6e78f0e\n",
      "INFO:__main__:evaluating model\n"
     ]
    },
    {
     "name": "stdout",
     "output_type": "stream",
     "text": [
      "\u001b[1m625/625\u001b[0m \u001b[32m━━━━━━━━━━━━━━━━━━━━\u001b[0m\u001b[37m\u001b[0m \u001b[1m4s\u001b[0m 7ms/step - AUC: 0.9977 - Precision: 0.9703 - Recall: 0.9894 - accuracy: 0.9795 - loss: 0.0585\n"
     ]
    },
    {
     "name": "stderr",
     "output_type": "stream",
     "text": [
      "INFO:__main__:Evaluation completed. Loss: 0.059482164680957794, Accuracy: 0.9794999957084656, Precision: 0.9695456027984619, Recall: 0.9901000261306763, AUC: 0.9973678588867188\n",
      "\u001b[92mINFO \u001b[0m:      Sent reply\n",
      "INFO:flwr:Sent reply\n",
      "\u001b[92mINFO \u001b[0m:      \n",
      "INFO:flwr:\n",
      "\u001b[92mINFO \u001b[0m:      Received: train message 78e0e70a-72b5-466d-947e-21db1d4df1bf\n",
      "INFO:flwr:Received: train message 78e0e70a-72b5-466d-947e-21db1d4df1bf\n",
      "INFO:__main__:received training request from server start training\n"
     ]
    },
    {
     "name": "stdout",
     "output_type": "stream",
     "text": [
      "Epoch 1/7\n",
      "1250/1250 - 10s - 8ms/step - AUC: 0.9961 - Precision: 0.9647 - Recall: 0.9868 - accuracy: 0.9753 - loss: 0.0721 - val_AUC: 0.9978 - val_Precision: 0.9699 - val_Recall: 0.9940 - val_accuracy: 0.9816 - val_loss: 0.0563\n",
      "Epoch 2/7\n",
      "1250/1250 - 8s - 7ms/step - AUC: 0.9965 - Precision: 0.9663 - Recall: 0.9878 - accuracy: 0.9767 - loss: 0.0682 - val_AUC: 0.9979 - val_Precision: 0.9732 - val_Recall: 0.9895 - val_accuracy: 0.9811 - val_loss: 0.0565\n",
      "Epoch 3/7\n",
      "1250/1250 - 8s - 7ms/step - AUC: 0.9968 - Precision: 0.9660 - Recall: 0.9881 - accuracy: 0.9767 - loss: 0.0660 - val_AUC: 0.9982 - val_Precision: 0.9714 - val_Recall: 0.9951 - val_accuracy: 0.9829 - val_loss: 0.0518\n",
      "Epoch 4/7\n",
      "1250/1250 - 8s - 7ms/step - AUC: 0.9970 - Precision: 0.9674 - Recall: 0.9889 - accuracy: 0.9778 - loss: 0.0632 - val_AUC: 0.9982 - val_Precision: 0.9723 - val_Recall: 0.9919 - val_accuracy: 0.9818 - val_loss: 0.0517\n",
      "Epoch 5/7\n",
      "1250/1250 - 8s - 7ms/step - AUC: 0.9973 - Precision: 0.9670 - Recall: 0.9886 - accuracy: 0.9775 - loss: 0.0611 - val_AUC: 0.9985 - val_Precision: 0.9693 - val_Recall: 0.9949 - val_accuracy: 0.9817 - val_loss: 0.0485\n",
      "Epoch 6/7\n",
      "1250/1250 - 8s - 7ms/step - AUC: 0.9977 - Precision: 0.9680 - Recall: 0.9889 - accuracy: 0.9781 - loss: 0.0575 - val_AUC: 0.9988 - val_Precision: 0.9721 - val_Recall: 0.9948 - val_accuracy: 0.9831 - val_loss: 0.0447\n",
      "Epoch 7/7\n",
      "1250/1250 - 8s - 7ms/step - AUC: 0.9977 - Precision: 0.9678 - Recall: 0.9898 - accuracy: 0.9784 - loss: 0.0570 - val_AUC: 0.9988 - val_Precision: 0.9738 - val_Recall: 0.9920 - val_accuracy: 0.9826 - val_loss: 0.0441\n"
     ]
    },
    {
     "name": "stderr",
     "output_type": "stream",
     "text": [
      "INFO:__main__:Training completed. Final Loss: 0.05699610710144043\n",
      "\u001b[92mINFO \u001b[0m:      Sent reply\n",
      "INFO:flwr:Sent reply\n",
      "\u001b[92mINFO \u001b[0m:      \n",
      "INFO:flwr:\n",
      "\u001b[92mINFO \u001b[0m:      Received: evaluate message d9a56c4e-539a-48f2-b235-9eb0e6dd228d\n",
      "INFO:flwr:Received: evaluate message d9a56c4e-539a-48f2-b235-9eb0e6dd228d\n",
      "INFO:__main__:evaluating model\n"
     ]
    },
    {
     "name": "stdout",
     "output_type": "stream",
     "text": [
      "\u001b[1m625/625\u001b[0m \u001b[32m━━━━━━━━━━━━━━━━━━━━\u001b[0m\u001b[37m\u001b[0m \u001b[1m4s\u001b[0m 6ms/step - AUC: 0.9989 - Precision: 0.9743 - Recall: 0.9907 - accuracy: 0.9823 - loss: 0.0451\n"
     ]
    },
    {
     "name": "stderr",
     "output_type": "stream",
     "text": [
      "INFO:__main__:Evaluation completed. Loss: 0.04412991181015968, Accuracy: 0.9826499819755554, Precision: 0.9737901091575623, Recall: 0.9919999837875366, AUC: 0.9988440275192261\n",
      "\u001b[92mINFO \u001b[0m:      Sent reply\n",
      "INFO:flwr:Sent reply\n",
      "\u001b[92mINFO \u001b[0m:      \n",
      "INFO:flwr:\n",
      "\u001b[92mINFO \u001b[0m:      Received: train message 1f83672e-4b25-4f7d-b4df-7cbc508a113a\n",
      "INFO:flwr:Received: train message 1f83672e-4b25-4f7d-b4df-7cbc508a113a\n",
      "INFO:__main__:received training request from server start training\n"
     ]
    },
    {
     "name": "stdout",
     "output_type": "stream",
     "text": [
      "Epoch 1/7\n",
      "1250/1250 - 8s - 7ms/step - AUC: 0.9980 - Precision: 0.9687 - Recall: 0.9894 - accuracy: 0.9787 - loss: 0.0542 - val_AUC: 0.9989 - val_Precision: 0.9729 - val_Recall: 0.9937 - val_accuracy: 0.9830 - val_loss: 0.0418\n",
      "Epoch 2/7\n",
      "1250/1250 - 8s - 7ms/step - AUC: 0.9981 - Precision: 0.9698 - Recall: 0.9900 - accuracy: 0.9796 - loss: 0.0527 - val_AUC: 0.9985 - val_Precision: 0.9799 - val_Recall: 0.9892 - val_accuracy: 0.9844 - val_loss: 0.0452\n",
      "Epoch 3/7\n",
      "1250/1250 - 8s - 7ms/step - AUC: 0.9983 - Precision: 0.9717 - Recall: 0.9902 - accuracy: 0.9807 - loss: 0.0493 - val_AUC: 0.9992 - val_Precision: 0.9739 - val_Recall: 0.9932 - val_accuracy: 0.9833 - val_loss: 0.0388\n",
      "Epoch 4/7\n",
      "1250/1250 - 8s - 7ms/step - AUC: 0.9984 - Precision: 0.9732 - Recall: 0.9907 - accuracy: 0.9817 - loss: 0.0476 - val_AUC: 0.9993 - val_Precision: 0.9720 - val_Recall: 0.9957 - val_accuracy: 0.9835 - val_loss: 0.0359\n",
      "Epoch 5/7\n",
      "1250/1250 - 8s - 7ms/step - AUC: 0.9985 - Precision: 0.9764 - Recall: 0.9907 - accuracy: 0.9834 - loss: 0.0450 - val_AUC: 0.9993 - val_Precision: 0.9807 - val_Recall: 0.9968 - val_accuracy: 0.9886 - val_loss: 0.0344\n",
      "Epoch 6/7\n",
      "1250/1250 - 10s - 8ms/step - AUC: 0.9986 - Precision: 0.9772 - Recall: 0.9911 - accuracy: 0.9840 - loss: 0.0438 - val_AUC: 0.9993 - val_Precision: 0.9806 - val_Recall: 0.9957 - val_accuracy: 0.9880 - val_loss: 0.0327\n",
      "Epoch 7/7\n",
      "1250/1250 - 8s - 7ms/step - AUC: 0.9987 - Precision: 0.9792 - Recall: 0.9916 - accuracy: 0.9852 - loss: 0.0414 - val_AUC: 0.9994 - val_Precision: 0.9822 - val_Recall: 0.9967 - val_accuracy: 0.9893 - val_loss: 0.0306\n"
     ]
    },
    {
     "name": "stderr",
     "output_type": "stream",
     "text": [
      "INFO:__main__:Training completed. Final Loss: 0.04140673950314522\n",
      "\u001b[92mINFO \u001b[0m:      Sent reply\n",
      "INFO:flwr:Sent reply\n",
      "\u001b[92mINFO \u001b[0m:      \n",
      "INFO:flwr:\n",
      "\u001b[92mINFO \u001b[0m:      Received: evaluate message baa6a20e-13b4-45f0-be03-045e540af6ac\n",
      "INFO:flwr:Received: evaluate message baa6a20e-13b4-45f0-be03-045e540af6ac\n",
      "INFO:__main__:evaluating model\n"
     ]
    },
    {
     "name": "stdout",
     "output_type": "stream",
     "text": [
      "\u001b[1m625/625\u001b[0m \u001b[32m━━━━━━━━━━━━━━━━━━━━\u001b[0m\u001b[37m\u001b[0m \u001b[1m4s\u001b[0m 6ms/step - AUC: 0.9995 - Precision: 0.9820 - Recall: 0.9960 - accuracy: 0.9888 - loss: 0.0304\n"
     ]
    },
    {
     "name": "stderr",
     "output_type": "stream",
     "text": [
      "INFO:__main__:Evaluation completed. Loss: 0.030611032620072365, Accuracy: 0.989300012588501, Precision: 0.9821639657020569, Recall: 0.9966999888420105, AUC: 0.9994180202484131\n",
      "\u001b[92mINFO \u001b[0m:      Sent reply\n",
      "INFO:flwr:Sent reply\n",
      "\u001b[92mINFO \u001b[0m:      \n",
      "INFO:flwr:\n",
      "\u001b[92mINFO \u001b[0m:      Received: evaluate message 61720e3b-499b-4c64-89bc-11cc2f479301\n",
      "INFO:flwr:Received: evaluate message 61720e3b-499b-4c64-89bc-11cc2f479301\n",
      "INFO:__main__:evaluating model\n"
     ]
    },
    {
     "name": "stdout",
     "output_type": "stream",
     "text": [
      "\u001b[1m625/625\u001b[0m \u001b[32m━━━━━━━━━━━━━━━━━━━━\u001b[0m\u001b[37m\u001b[0m \u001b[1m4s\u001b[0m 6ms/step - AUC: 0.9996 - Precision: 0.9840 - Recall: 0.9958 - accuracy: 0.9898 - loss: 0.0259\n"
     ]
    },
    {
     "name": "stderr",
     "output_type": "stream",
     "text": [
      "INFO:__main__:Evaluation completed. Loss: 0.02630488947033882, Accuracy: 0.9904500246047974, Precision: 0.9845864772796631, Recall: 0.9965000152587891, AUC: 0.9994423389434814\n",
      "\u001b[92mINFO \u001b[0m:      Sent reply\n",
      "INFO:flwr:Sent reply\n"
     ]
    }
   ],
   "source": [
    "# Start Flower client\n",
    "logger.info(f\" starting flower Client {CLIENT_ID}. connecting to server at {SERVER_ADDRESS}...\")\n",
    "fl.client.start_numpy_client(server_address=SERVER_ADDRESS, client=FlowerClient())"
   ]
  },
  {
   "cell_type": "code",
   "execution_count": null,
   "id": "b03d883c-ebc5-4fc5-b2d0-26bfd8a035f4",
   "metadata": {},
   "outputs": [],
   "source": []
  }
 ],
 "metadata": {
  "jupytext": {
   "cell_metadata_filter": "-all",
   "main_language": "python",
   "notebook_metadata_filter": "-all"
  },
  "kernelspec": {
   "display_name": "Python 3 (ipykernel)",
   "language": "python",
   "name": "python3"
  },
  "language_info": {
   "codemirror_mode": {
    "name": "ipython",
    "version": 3
   },
   "file_extension": ".py",
   "mimetype": "text/x-python",
   "name": "python",
   "nbconvert_exporter": "python",
   "pygments_lexer": "ipython3",
   "version": "3.11.2"
  }
 },
 "nbformat": 4,
 "nbformat_minor": 5
}
